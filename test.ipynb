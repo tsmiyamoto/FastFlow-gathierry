{
 "cells": [
  {
   "cell_type": "code",
   "execution_count": 27,
   "metadata": {},
   "outputs": [
    {
     "name": "stdout",
     "output_type": "stream",
     "text": [
      "Model A.D. Param#: 45007872\n",
      "colormap (256, 256, 3) uint8\n",
      "original (256, 256, 3) uint8\n",
      "<class 'PIL.Image.Image'>\n",
      "colormap (256, 256, 3) uint8\n",
      "original (256, 256, 3) uint8\n",
      "<class 'PIL.Image.Image'>\n",
      "colormap (256, 256, 3) uint8\n",
      "original (256, 256, 3) uint8\n",
      "<class 'PIL.Image.Image'>\n",
      "colormap (256, 256, 3) uint8\n",
      "original (256, 256, 3) uint8\n",
      "<class 'PIL.Image.Image'>\n",
      "colormap (256, 256, 3) uint8\n",
      "original (256, 256, 3) uint8\n",
      "<class 'PIL.Image.Image'>\n",
      "colormap (256, 256, 3) uint8\n",
      "original (256, 256, 3) uint8\n",
      "<class 'PIL.Image.Image'>\n",
      "colormap (256, 256, 3) uint8\n",
      "original (256, 256, 3) uint8\n",
      "<class 'PIL.Image.Image'>\n",
      "colormap (256, 256, 3) uint8\n",
      "original (256, 256, 3) uint8\n",
      "<class 'PIL.Image.Image'>\n",
      "colormap (256, 256, 3) uint8\n",
      "original (256, 256, 3) uint8\n",
      "<class 'PIL.Image.Image'>\n",
      "colormap (256, 256, 3) uint8\n",
      "original (256, 256, 3) uint8\n",
      "<class 'PIL.Image.Image'>\n",
      "colormap (256, 256, 3) uint8\n",
      "original (256, 256, 3) uint8\n",
      "<class 'PIL.Image.Image'>\n",
      "colormap (256, 256, 3) uint8\n",
      "original (256, 256, 3) uint8\n",
      "<class 'PIL.Image.Image'>\n",
      "colormap (256, 256, 3) uint8\n",
      "original (256, 256, 3) uint8\n",
      "<class 'PIL.Image.Image'>\n",
      "colormap (256, 256, 3) uint8\n",
      "original (256, 256, 3) uint8\n",
      "<class 'PIL.Image.Image'>\n",
      "colormap (256, 256, 3) uint8\n",
      "original (256, 256, 3) uint8\n",
      "<class 'PIL.Image.Image'>\n",
      "/opt/conda/lib/python3.6/site-packages/ignite/metrics/epoch_metric.py:76: RuntimeWarning: Probably, there can be a problem with `compute_fn`:\n",
      " Only one class present in y_true. ROC AUC score is not defined in that case..\n",
      "  RuntimeWarning)\n"
     ]
    }
   ],
   "source": [
    "!python3 main.py -cfg configs/wide_resnet50_2.yaml --data crop_data -cat cover --eval -ckpt _fastflow_experiment_checkpoints/exp17/999.pt"
   ]
  },
  {
   "cell_type": "code",
   "execution_count": 10,
   "metadata": {},
   "outputs": [
    {
     "name": "stdout",
     "output_type": "stream",
     "text": [
      "Looking in indexes: https://pypi.org/simple, https://pypi.ngc.nvidia.com\n",
      "Requirement already satisfied: scikit-image in /opt/conda/lib/python3.6/site-packages (0.17.2)\n",
      "Requirement already satisfied: imageio>=2.3.0 in /opt/conda/lib/python3.6/site-packages (from scikit-image) (2.13.3)\n",
      "Requirement already satisfied: scipy>=1.0.1 in /opt/conda/lib/python3.6/site-packages (from scikit-image) (1.5.4)\n",
      "Requirement already satisfied: matplotlib!=3.0.0,>=2.0.0 in /opt/conda/lib/python3.6/site-packages (from scikit-image) (3.3.4)\n",
      "Requirement already satisfied: PyWavelets>=1.1.1 in /opt/conda/lib/python3.6/site-packages (from scikit-image) (1.1.1)\n",
      "Requirement already satisfied: numpy>=1.15.1 in /opt/conda/lib/python3.6/site-packages (from scikit-image) (1.19.1)\n",
      "Requirement already satisfied: tifffile>=2019.7.26 in /opt/conda/lib/python3.6/site-packages (from scikit-image) (2020.9.3)\n",
      "Requirement already satisfied: networkx>=2.0 in /opt/conda/lib/python3.6/site-packages (from scikit-image) (2.5.1)\n",
      "Requirement already satisfied: pillow!=7.1.0,!=7.1.1,>=4.3.0 in /opt/conda/lib/python3.6/site-packages (from scikit-image) (8.3.2)\n",
      "Requirement already satisfied: python-dateutil>=2.1 in /opt/conda/lib/python3.6/site-packages (from matplotlib!=3.0.0,>=2.0.0->scikit-image) (2.8.2)\n",
      "Requirement already satisfied: kiwisolver>=1.0.1 in /opt/conda/lib/python3.6/site-packages (from matplotlib!=3.0.0,>=2.0.0->scikit-image) (1.3.1)\n",
      "Requirement already satisfied: cycler>=0.10 in /opt/conda/lib/python3.6/site-packages (from matplotlib!=3.0.0,>=2.0.0->scikit-image) (0.11.0)\n",
      "Requirement already satisfied: pyparsing!=2.0.4,!=2.1.2,!=2.1.6,>=2.0.3 in /opt/conda/lib/python3.6/site-packages (from matplotlib!=3.0.0,>=2.0.0->scikit-image) (3.0.6)\n",
      "Requirement already satisfied: decorator<5,>=4.3 in /opt/conda/lib/python3.6/site-packages (from networkx>=2.0->scikit-image) (4.4.2)\n",
      "Requirement already satisfied: six>=1.5 in /opt/conda/lib/python3.6/site-packages (from python-dateutil>=2.1->matplotlib!=3.0.0,>=2.0.0->scikit-image) (1.16.0)\n",
      "\u001b[33mWARNING: Running pip as the 'root' user can result in broken permissions and conflicting behaviour with the system package manager. It is recommended to use a virtual environment instead: https://pip.pypa.io/warnings/venv\u001b[0m\n"
     ]
    }
   ],
   "source": [
    "!pip3 install scikit-image"
   ]
  },
  {
   "cell_type": "code",
   "execution_count": 48,
   "metadata": {},
   "outputs": [
    {
     "name": "stdout",
     "output_type": "stream",
     "text": [
      "comp/wide-resnet250-anomaly-score/\n",
      "comp/wide-resnet250-anomaly-score/ok/\n",
      "comp/wide-resnet250-anomaly-score/ok/1.png\n",
      "comp/wide-resnet250-anomaly-score/ok/.ipynb_checkpoints/\n",
      "comp/wide-resnet250-anomaly-score/ok/.ipynb_checkpoints/0-checkpoint.png\n",
      "comp/wide-resnet250-anomaly-score/ok/.ipynb_checkpoints/4-checkpoint.png\n",
      "comp/wide-resnet250-anomaly-score/ok/.ipynb_checkpoints/2-checkpoint.png\n",
      "comp/wide-resnet250-anomaly-score/ok/.ipynb_checkpoints/1-checkpoint.png\n",
      "comp/wide-resnet250-anomaly-score/ok/.ipynb_checkpoints/3-checkpoint.png\n",
      "comp/wide-resnet250-anomaly-score/ok/3.png\n",
      "comp/wide-resnet250-anomaly-score/ok/2.png\n",
      "comp/wide-resnet250-anomaly-score/ok/0.png\n",
      "comp/wide-resnet250-anomaly-score/ok/4.png\n",
      "comp/wide-resnet250-anomaly-score/ng/\n",
      "comp/wide-resnet250-anomaly-score/ng/14.png\n",
      "comp/wide-resnet250-anomaly-score/ng/5.png\n",
      "comp/wide-resnet250-anomaly-score/ng/10.png\n",
      "comp/wide-resnet250-anomaly-score/ng/9.png\n",
      "comp/wide-resnet250-anomaly-score/ng/7.png\n",
      "comp/wide-resnet250-anomaly-score/ng/.ipynb_checkpoints/\n",
      "comp/wide-resnet250-anomaly-score/ng/.ipynb_checkpoints/8-checkpoint.png\n",
      "comp/wide-resnet250-anomaly-score/ng/.ipynb_checkpoints/13-checkpoint.png\n",
      "comp/wide-resnet250-anomaly-score/ng/.ipynb_checkpoints/11-checkpoint.png\n",
      "comp/wide-resnet250-anomaly-score/ng/.ipynb_checkpoints/6-checkpoint.png\n",
      "comp/wide-resnet250-anomaly-score/ng/.ipynb_checkpoints/9-checkpoint.png\n",
      "comp/wide-resnet250-anomaly-score/ng/.ipynb_checkpoints/10-checkpoint.png\n",
      "comp/wide-resnet250-anomaly-score/ng/.ipynb_checkpoints/14-checkpoint.png\n",
      "comp/wide-resnet250-anomaly-score/ng/.ipynb_checkpoints/5-checkpoint.png\n",
      "comp/wide-resnet250-anomaly-score/ng/.ipynb_checkpoints/12-checkpoint.png\n",
      "comp/wide-resnet250-anomaly-score/ng/.ipynb_checkpoints/7-checkpoint.png\n",
      "comp/wide-resnet250-anomaly-score/ng/12.png\n",
      "comp/wide-resnet250-anomaly-score/ng/6.png\n",
      "comp/wide-resnet250-anomaly-score/ng/11.png\n",
      "comp/wide-resnet250-anomaly-score/ng/8.png\n",
      "comp/wide-resnet250-anomaly-score/ng/13.png\n"
     ]
    }
   ],
   "source": [
    "!tar -cvzf comp_wideres-250-anomaly-score.tar.gz comp/wide-resnet250-anomaly-score/"
   ]
  },
  {
   "cell_type": "code",
   "execution_count": null,
   "metadata": {},
   "outputs": [],
   "source": []
  }
 ],
 "metadata": {
  "instance_type": "ml.g4dn.xlarge",
  "kernelspec": {
   "display_name": "Python 3 (PyTorch 1.8 Python 3.6 GPU Optimized)",
   "language": "python",
   "name": "python3__SAGEMAKER_INTERNAL__arn:aws:sagemaker:us-east-2:429704687514:image/pytorch-1.8-gpu-py36"
  },
  "language_info": {
   "codemirror_mode": {
    "name": "ipython",
    "version": 3
   },
   "file_extension": ".py",
   "mimetype": "text/x-python",
   "name": "python",
   "nbconvert_exporter": "python",
   "pygments_lexer": "ipython3",
   "version": "3.6.13"
  }
 },
 "nbformat": 4,
 "nbformat_minor": 4
}
