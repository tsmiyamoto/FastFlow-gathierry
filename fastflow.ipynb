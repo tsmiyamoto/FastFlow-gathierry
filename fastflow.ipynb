{
 "cells": [
  {
   "cell_type": "code",
   "execution_count": 13,
   "metadata": {},
   "outputs": [
    {
     "name": "stdout",
     "output_type": "stream",
     "text": [
      "download: s3://sagemaker-miyamoto-test-ohio/mazda/fastflow/test_resize/ng/200818052546u.png to resize_data/test/ng/200818052546u.png\n",
      "download: s3://sagemaker-miyamoto-test-ohio/mazda/fastflow/test_resize/ng/200821103306u.png to resize_data/test/ng/200821103306u.png\n",
      "download: s3://sagemaker-miyamoto-test-ohio/mazda/fastflow/test_resize/ng/211217212412u.png to resize_data/test/ng/211217212412u.png\n",
      "download: s3://sagemaker-miyamoto-test-ohio/mazda/fastflow/test_resize/ng/200902163105u.png to resize_data/test/ng/200902163105u.png\n",
      "download: s3://sagemaker-miyamoto-test-ohio/mazda/fastflow/test_resize/ng/211217212513u.png to resize_data/test/ng/211217212513u.png\n",
      "download: s3://sagemaker-miyamoto-test-ohio/mazda/fastflow/test_resize/ng/200918025210u.png to resize_data/test/ng/200918025210u.png\n",
      "download: s3://sagemaker-miyamoto-test-ohio/mazda/fastflow/test_resize/ng/200831162752u.png to resize_data/test/ng/200831162752u.png\n",
      "download: s3://sagemaker-miyamoto-test-ohio/mazda/fastflow/test_resize/ng/211124074836u.png to resize_data/test/ng/211124074836u.png\n",
      "download: s3://sagemaker-miyamoto-test-ohio/mazda/fastflow/test_resize/ng/200928183024u.png to resize_data/test/ng/200928183024u.png\n",
      "download: s3://sagemaker-miyamoto-test-ohio/mazda/fastflow/test_resize/ng/200917065326u.png to resize_data/test/ng/200917065326u.png\n",
      "download: s3://sagemaker-miyamoto-test-ohio/mazda/fastflow/test_resize/ok/210426154350u.png to resize_data/test/ok/210426154350u.png\n",
      "download: s3://sagemaker-miyamoto-test-ohio/mazda/fastflow/test_resize/ok/210522102124u.png to resize_data/test/ok/210522102124u.png\n",
      "download: s3://sagemaker-miyamoto-test-ohio/mazda/fastflow/test_resize/ok/211007093114u.png to resize_data/test/ok/211007093114u.png\n",
      "download: s3://sagemaker-miyamoto-test-ohio/mazda/fastflow/test_resize/ok/211103015625u.png to resize_data/test/ok/211103015625u.png\n",
      "download: s3://sagemaker-miyamoto-test-ohio/mazda/fastflow/test_resize/ok/211212201206u.png to resize_data/test/ok/211212201206u.png\n"
     ]
    }
   ],
   "source": [
    "!aws s3 cp --recursive s3://sagemaker-miyamoto-test-ohio/mazda/fastflow/test_resize/ resize_data/test"
   ]
  },
  {
   "cell_type": "code",
   "execution_count": 72,
   "metadata": {},
   "outputs": [
    {
     "name": "stdout",
     "output_type": "stream",
     "text": [
      "Model A.D. Param#: 7074500\n",
      "ERROR: Unexpected bus error encountered in worker. This might be caused by insufficient shared memory (shm).\n",
      "\u0000ERROR: Unexpected bus error encountered in worker. This might be caused by insufficient shared memory (shm).\n",
      "\u0000^C\n",
      "Traceback (most recent call last):\n",
      "  File \"main.py\", line 330, in <module>\n"
     ]
    }
   ],
   "source": [
    "!python3 main.py -cfg configs/deit.yaml --data crop_data -cat cover"
   ]
  },
  {
   "cell_type": "code",
   "execution_count": 11,
   "metadata": {},
   "outputs": [
    {
     "name": "stdout",
     "output_type": "stream",
     "text": [
      "Model A.D. Param#: 45007872\n",
      "Traceback (most recent call last):\n",
      "  File \"main.py\", line 273, in <module>\n",
      "    train(args)\n",
      "  File \"main.py\", line 217, in train\n",
      "    train_dataloader = build_train_data_loader(args, config)\n",
      "  File \"main.py\", line 33, in build_train_data_loader\n",
      "    drop_last=True,\n",
      "  File \"/opt/conda/lib/python3.6/site-packages/torch/utils/data/dataloader.py\", line 270, in __init__\n",
      "    sampler = RandomSampler(dataset, generator=generator)  # type: ignore[arg-type]\n",
      "  File \"/opt/conda/lib/python3.6/site-packages/torch/utils/data/sampler.py\", line 103, in __init__\n",
      "    \"value, but got num_samples={}\".format(self.num_samples))\n",
      "ValueError: num_samples should be a positive integer value, but got num_samples=0\n"
     ]
    }
   ],
   "source": [
    "!python3 main.py -cfg configs/wide_resnet50_2.yaml --data data -cat cover "
   ]
  },
  {
   "cell_type": "code",
   "execution_count": 78,
   "metadata": {},
   "outputs": [
    {
     "name": "stdout",
     "output_type": "stream",
     "text": [
      "Model A.D. Param#: 45007872\n",
      "len outputs 1\n",
      "prob:  139021680.0\n",
      "mean of outputs[0] 2050.917\n",
      "mean without 2jou:  -114.936264\n",
      "torch.Size([1, 3, 256, 256])\n",
      "len outputs 1\n",
      "prob:  2615179.0\n",
      "mean of outputs[0] 5637.508\n",
      "mean without 2jou:  -126.10167\n",
      "torch.Size([1, 3, 256, 256])\n",
      "len outputs 1\n",
      "prob:  70698060.0\n",
      "mean of outputs[0] 5282.3677\n",
      "mean without 2jou:  -121.69792\n",
      "torch.Size([1, 3, 256, 256])\n",
      "len outputs 1\n",
      "prob:  26253360.0\n",
      "mean of outputs[0] 7535.26\n",
      "mean without 2jou:  -146.96283\n",
      "torch.Size([1, 3, 256, 256])\n",
      "len outputs 1\n",
      "prob:  1878429.5\n",
      "mean of outputs[0] 7411.586\n",
      "mean without 2jou:  -150.64783\n",
      "torch.Size([1, 3, 256, 256])\n",
      "len outputs 1\n",
      "prob:  32456544.0\n",
      "mean of outputs[0] 5114.8013\n",
      "mean without 2jou:  -129.30934\n",
      "torch.Size([1, 3, 256, 256])\n",
      "len outputs 1\n",
      "prob:  53808216.0\n",
      "mean of outputs[0] 2928.623\n",
      "mean without 2jou:  -104.78515\n",
      "torch.Size([1, 3, 256, 256])\n",
      "len outputs 1\n",
      "prob:  43087536.0\n",
      "mean of outputs[0] 5013.953\n",
      "mean without 2jou:  -132.4371\n",
      "torch.Size([1, 3, 256, 256])\n",
      "len outputs 1\n",
      "prob:  300479070.0\n",
      "mean of outputs[0] 1104.4852\n",
      "mean without 2jou:  -111.23941\n",
      "torch.Size([1, 3, 256, 256])\n",
      "len outputs 1\n",
      "prob:  66449050.0\n",
      "mean of outputs[0] 2044.2593\n",
      "mean without 2jou:  -96.28474\n",
      "torch.Size([1, 3, 256, 256])\n",
      "len outputs 1\n",
      "prob:  110625070.0\n",
      "mean of outputs[0] 2331.3179\n",
      "mean without 2jou:  -102.64649\n",
      "torch.Size([1, 3, 256, 256])\n",
      "len outputs 1\n",
      "prob:  85076590.0\n",
      "mean of outputs[0] 3057.714\n",
      "mean without 2jou:  -102.21122\n",
      "torch.Size([1, 3, 256, 256])\n",
      "len outputs 1\n",
      "prob:  72710320.0\n",
      "mean of outputs[0] 3288.9438\n",
      "mean without 2jou:  -110.91942\n",
      "torch.Size([1, 3, 256, 256])\n",
      "len outputs 1\n",
      "prob:  12092726.0\n",
      "mean of outputs[0] 4824.631\n",
      "mean without 2jou:  -123.81797\n",
      "torch.Size([1, 3, 256, 256])\n",
      "len outputs 1\n",
      "prob:  207898140.0\n",
      "mean of outputs[0] 557.3519\n",
      "mean without 2jou:  -82.0295\n",
      "torch.Size([1, 3, 256, 256])\n"
     ]
    }
   ],
   "source": [
    "!python3 main.py -cfg configs/wide_resnet50_2.yaml --data crop_data -cat cover --eval -ckpt _fastflow_experiment_checkpoints/exp17/249.pt"
   ]
  },
  {
   "cell_type": "code",
   "execution_count": 17,
   "metadata": {},
   "outputs": [
    {
     "name": "stdout",
     "output_type": "stream",
     "text": [
      "Model A.D. Param#: 45007872\n",
      "colormap (256, 256, 3) uint8\n",
      "original (256, 256, 3) uint8\n",
      "<class 'PIL.Image.Image'>\n",
      "colormap (256, 256, 3) uint8\n",
      "original (256, 256, 3) uint8\n",
      "<class 'PIL.Image.Image'>\n",
      "colormap (256, 256, 3) uint8\n",
      "original (256, 256, 3) uint8\n",
      "<class 'PIL.Image.Image'>\n",
      "colormap (256, 256, 3) uint8\n",
      "original (256, 256, 3) uint8\n",
      "<class 'PIL.Image.Image'>\n",
      "colormap (256, 256, 3) uint8\n",
      "original (256, 256, 3) uint8\n",
      "<class 'PIL.Image.Image'>\n",
      "colormap (256, 256, 3) uint8\n",
      "original (256, 256, 3) uint8\n",
      "<class 'PIL.Image.Image'>\n",
      "colormap (256, 256, 3) uint8\n",
      "original (256, 256, 3) uint8\n",
      "<class 'PIL.Image.Image'>\n",
      "colormap (256, 256, 3) uint8\n",
      "original (256, 256, 3) uint8\n",
      "<class 'PIL.Image.Image'>\n",
      "colormap (256, 256, 3) uint8\n",
      "original (256, 256, 3) uint8\n",
      "<class 'PIL.Image.Image'>\n",
      "colormap (256, 256, 3) uint8\n",
      "original (256, 256, 3) uint8\n",
      "<class 'PIL.Image.Image'>\n",
      "colormap (256, 256, 3) uint8\n",
      "original (256, 256, 3) uint8\n",
      "<class 'PIL.Image.Image'>\n",
      "colormap (256, 256, 3) uint8\n",
      "original (256, 256, 3) uint8\n",
      "<class 'PIL.Image.Image'>\n",
      "colormap (256, 256, 3) uint8\n",
      "original (256, 256, 3) uint8\n",
      "<class 'PIL.Image.Image'>\n",
      "colormap (256, 256, 3) uint8\n",
      "original (256, 256, 3) uint8\n",
      "<class 'PIL.Image.Image'>\n",
      "colormap (256, 256, 3) uint8\n",
      "original (256, 256, 3) uint8\n",
      "<class 'PIL.Image.Image'>\n",
      "/opt/conda/lib/python3.6/site-packages/ignite/metrics/epoch_metric.py:76: RuntimeWarning: Probably, there can be a problem with `compute_fn`:\n",
      " Only one class present in y_true. ROC AUC score is not defined in that case..\n",
      "  RuntimeWarning)\n"
     ]
    }
   ],
   "source": [
    "!python3 main.py -cfg configs/wide_resnet50_2.yaml --data resize_data -cat cover --eval -ckpt _fastflow_experiment_checkpoints/exp33/249.pt"
   ]
  },
  {
   "cell_type": "code",
   "execution_count": 3,
   "metadata": {},
   "outputs": [
    {
     "name": "stdout",
     "output_type": "stream",
     "text": [
      "Looking in indexes: https://pypi.org/simple, https://pypi.ngc.nvidia.com\n",
      "Collecting FrEIA@ git+https://github.com/VLL-HD/FrEIA@1779d1fba1e21000fda1927b59eeac0a6fcaa284\n",
      "  Cloning https://github.com/VLL-HD/FrEIA (to revision 1779d1fba1e21000fda1927b59eeac0a6fcaa284) to /tmp/pip-install-s_1okd29/freia_b76bf7b11d5a4c32bc9d3a2f6e72f5f5\n",
      "  Running command git clone --filter=blob:none -q https://github.com/VLL-HD/FrEIA /tmp/pip-install-s_1okd29/freia_b76bf7b11d5a4c32bc9d3a2f6e72f5f5\n",
      "  Running command git rev-parse -q --verify 'sha^1779d1fba1e21000fda1927b59eeac0a6fcaa284'\n",
      "  Running command git fetch -q https://github.com/VLL-HD/FrEIA 1779d1fba1e21000fda1927b59eeac0a6fcaa284\n",
      "  Resolved https://github.com/VLL-HD/FrEIA to commit 1779d1fba1e21000fda1927b59eeac0a6fcaa284\n",
      "  Preparing metadata (setup.py) ... \u001b[?25ldone\n",
      "\u001b[?25hCollecting timm==0.5.4\n",
      "  Downloading timm-0.5.4-py3-none-any.whl (431 kB)\n",
      "     |████████████████████████████████| 431 kB 5.1 MB/s            \n",
      "\u001b[?25hCollecting torch==1.9.1\n",
      "  Downloading torch-1.9.1-cp36-cp36m-manylinux1_x86_64.whl (831.4 MB)\n",
      "     |████████████████████████████████| 831.4 MB 162.3 MB/s            \n",
      "\u001b[?25hCollecting torchvision==0.10.1\n",
      "  Downloading torchvision-0.10.1-cp36-cp36m-manylinux1_x86_64.whl (22.1 MB)\n",
      "     |████████████████████████████████| 22.1 MB 124.1 MB/s            \n",
      "\u001b[?25hCollecting pyyaml==6.0\n",
      "  Downloading PyYAML-6.0-cp36-cp36m-manylinux_2_5_x86_64.manylinux1_x86_64.manylinux_2_12_x86_64.manylinux2010_x86_64.whl (603 kB)\n",
      "     |████████████████████████████████| 603 kB 65.2 MB/s            \n",
      "\u001b[?25hCollecting pytorch-ignite==0.2.0\n",
      "  Downloading pytorch_ignite-0.2.0-py2.py3-none-any.whl (73 kB)\n",
      "     |████████████████████████████████| 73 kB 82.8 MB/s             \n",
      "\u001b[?25hRequirement already satisfied: scikit-learn==0.24.2 in /opt/conda/lib/python3.6/site-packages (from -r requirements.txt (line 7)) (0.24.2)\n",
      "Requirement already satisfied: typing-extensions in /opt/conda/lib/python3.6/site-packages (from torch==1.9.1->-r requirements.txt (line 3)) (3.10.0.2)\n",
      "Requirement already satisfied: dataclasses in /opt/conda/lib/python3.6/site-packages (from torch==1.9.1->-r requirements.txt (line 3)) (0.8)\n",
      "Requirement already satisfied: pillow>=5.3.0 in /opt/conda/lib/python3.6/site-packages (from torchvision==0.10.1->-r requirements.txt (line 4)) (8.3.2)\n",
      "Requirement already satisfied: numpy in /opt/conda/lib/python3.6/site-packages (from torchvision==0.10.1->-r requirements.txt (line 4)) (1.19.1)\n",
      "Requirement already satisfied: joblib>=0.11 in /opt/conda/lib/python3.6/site-packages (from scikit-learn==0.24.2->-r requirements.txt (line 7)) (1.0.1)\n",
      "Requirement already satisfied: scipy>=0.19.1 in /opt/conda/lib/python3.6/site-packages (from scikit-learn==0.24.2->-r requirements.txt (line 7)) (1.5.4)\n",
      "Requirement already satisfied: threadpoolctl>=2.0.0 in /opt/conda/lib/python3.6/site-packages (from scikit-learn==0.24.2->-r requirements.txt (line 7)) (2.2.0)\n",
      "Building wheels for collected packages: FrEIA\n",
      "  Building wheel for FrEIA (setup.py) ... \u001b[?25ldone\n",
      "\u001b[?25h  Created wheel for FrEIA: filename=FrEIA-0.2-py3-none-any.whl size=42780 sha256=4cd1e8b5c1e18173b05a2ae7a95b8e3a56c2040da16c9dbbb0520b158d4020d6\n",
      "  Stored in directory: /tmp/pip-ephem-wheel-cache-vmcu9t6_/wheels/dc/db/9f/da4ea710eddb3fa7f8a5fec79708eb1c7cd8d5cf58b0f21707\n",
      "Successfully built FrEIA\n",
      "Installing collected packages: torch, torchvision, timm, pyyaml, pytorch-ignite, FrEIA\n",
      "  Attempting uninstall: torch\n",
      "    Found existing installation: torch 1.8.1\n",
      "    Uninstalling torch-1.8.1:\n",
      "      Successfully uninstalled torch-1.8.1\n",
      "  Attempting uninstall: torchvision\n",
      "    Found existing installation: torchvision 0.9.1\n",
      "    Uninstalling torchvision-0.9.1:\n",
      "      Successfully uninstalled torchvision-0.9.1\n",
      "  Attempting uninstall: pyyaml\n",
      "    Found existing installation: PyYAML 5.4.1\n",
      "    Uninstalling PyYAML-5.4.1:\n",
      "      Successfully uninstalled PyYAML-5.4.1\n",
      "\u001b[31mERROR: pip's dependency resolver does not currently take into account all the packages that are installed. This behaviour is the source of the following dependency conflicts.\n",
      "awscli 1.22.24 requires PyYAML<5.5,>=3.10, but you have pyyaml 6.0 which is incompatible.\u001b[0m\n",
      "Successfully installed FrEIA-0.2 pytorch-ignite-0.2.0 pyyaml-6.0 timm-0.5.4 torch-1.9.1 torchvision-0.10.1\n",
      "\u001b[33mWARNING: Running pip as the 'root' user can result in broken permissions and conflicting behaviour with the system package manager. It is recommended to use a virtual environment instead: https://pip.pypa.io/warnings/venv\u001b[0m\n"
     ]
    }
   ],
   "source": [
    "!pip3 install -r requirements.txt"
   ]
  },
  {
   "cell_type": "code",
   "execution_count": 82,
   "metadata": {},
   "outputs": [
    {
     "name": "stdout",
     "output_type": "stream",
     "text": [
      "Tue Apr 26 05:41:53 2022       \n",
      "+-----------------------------------------------------------------------------+\n",
      "| NVIDIA-SMI 470.57.02    Driver Version: 470.57.02    CUDA Version: 11.4     |\n",
      "|-------------------------------+----------------------+----------------------+\n",
      "| GPU  Name        Persistence-M| Bus-Id        Disp.A | Volatile Uncorr. ECC |\n",
      "| Fan  Temp  Perf  Pwr:Usage/Cap|         Memory-Usage | GPU-Util  Compute M. |\n",
      "|                               |                      |               MIG M. |\n",
      "|===============================+======================+======================|\n",
      "|   0  Tesla T4            Off  | 00000000:00:1E.0 Off |                    0 |\n",
      "| N/A   26C    P8     9W /  70W |      3MiB / 15109MiB |      0%      Default |\n",
      "|                               |                      |                  N/A |\n",
      "+-------------------------------+----------------------+----------------------+\n",
      "                                                                               \n",
      "+-----------------------------------------------------------------------------+\n",
      "| Processes:                                                                  |\n",
      "|  GPU   GI   CI        PID   Type   Process name                  GPU Memory |\n",
      "|        ID   ID                                                   Usage      |\n",
      "|=============================================================================|\n",
      "|  No running processes found                                                 |\n",
      "+-----------------------------------------------------------------------------+\n"
     ]
    }
   ],
   "source": [
    "!nvidia-smi"
   ]
  },
  {
   "cell_type": "code",
   "execution_count": 5,
   "metadata": {},
   "outputs": [
    {
     "name": "stdout",
     "output_type": "stream",
     "text": [
      "Looking in indexes: https://pypi.org/simple, https://pypi.ngc.nvidia.com\n",
      "Collecting scikit-image\n",
      "  Downloading scikit_image-0.17.2-cp36-cp36m-manylinux1_x86_64.whl (12.4 MB)\n",
      "     |████████████████████████████████| 12.4 MB 5.3 MB/s            \n",
      "\u001b[?25hRequirement already satisfied: networkx>=2.0 in /opt/conda/lib/python3.6/site-packages (from scikit-image) (2.5.1)\n",
      "Collecting tifffile>=2019.7.26\n",
      "  Downloading tifffile-2020.9.3-py3-none-any.whl (148 kB)\n",
      "     |████████████████████████████████| 148 kB 117.2 MB/s            \n",
      "\u001b[?25hRequirement already satisfied: pillow!=7.1.0,!=7.1.1,>=4.3.0 in /opt/conda/lib/python3.6/site-packages (from scikit-image) (8.3.2)\n",
      "Requirement already satisfied: matplotlib!=3.0.0,>=2.0.0 in /opt/conda/lib/python3.6/site-packages (from scikit-image) (3.3.4)\n",
      "Collecting PyWavelets>=1.1.1\n",
      "  Downloading PyWavelets-1.1.1-cp36-cp36m-manylinux1_x86_64.whl (4.4 MB)\n",
      "     |████████████████████████████████| 4.4 MB 53.7 MB/s            \n",
      "\u001b[?25hRequirement already satisfied: numpy>=1.15.1 in /opt/conda/lib/python3.6/site-packages (from scikit-image) (1.19.1)\n",
      "Requirement already satisfied: imageio>=2.3.0 in /opt/conda/lib/python3.6/site-packages (from scikit-image) (2.13.3)\n",
      "Requirement already satisfied: scipy>=1.0.1 in /opt/conda/lib/python3.6/site-packages (from scikit-image) (1.5.4)\n",
      "Requirement already satisfied: cycler>=0.10 in /opt/conda/lib/python3.6/site-packages (from matplotlib!=3.0.0,>=2.0.0->scikit-image) (0.11.0)\n",
      "Requirement already satisfied: python-dateutil>=2.1 in /opt/conda/lib/python3.6/site-packages (from matplotlib!=3.0.0,>=2.0.0->scikit-image) (2.8.2)\n",
      "Requirement already satisfied: pyparsing!=2.0.4,!=2.1.2,!=2.1.6,>=2.0.3 in /opt/conda/lib/python3.6/site-packages (from matplotlib!=3.0.0,>=2.0.0->scikit-image) (3.0.6)\n",
      "Requirement already satisfied: kiwisolver>=1.0.1 in /opt/conda/lib/python3.6/site-packages (from matplotlib!=3.0.0,>=2.0.0->scikit-image) (1.3.1)\n",
      "Collecting decorator<5,>=4.3\n",
      "  Downloading decorator-4.4.2-py2.py3-none-any.whl (9.2 kB)\n",
      "Requirement already satisfied: six>=1.5 in /opt/conda/lib/python3.6/site-packages (from python-dateutil>=2.1->matplotlib!=3.0.0,>=2.0.0->scikit-image) (1.16.0)\n",
      "Installing collected packages: decorator, tifffile, PyWavelets, scikit-image\n",
      "  Attempting uninstall: decorator\n",
      "    Found existing installation: decorator 5.1.1\n",
      "    Uninstalling decorator-5.1.1:\n",
      "      Successfully uninstalled decorator-5.1.1\n",
      "\u001b[31mERROR: pip's dependency resolver does not currently take into account all the packages that are installed. This behaviour is the source of the following dependency conflicts.\n",
      "ipython 7.16.3 requires jedi<=0.17.2,>=0.10, but you have jedi 0.18.0 which is incompatible.\u001b[0m\n",
      "Successfully installed PyWavelets-1.1.1 decorator-4.4.2 scikit-image-0.17.2 tifffile-2020.9.3\n",
      "\u001b[33mWARNING: Running pip as the 'root' user can result in broken permissions and conflicting behaviour with the system package manager. It is recommended to use a virtual environment instead: https://pip.pypa.io/warnings/venv\u001b[0m\n"
     ]
    }
   ],
   "source": [
    "!pip3 install scikit-image"
   ]
  },
  {
   "cell_type": "code",
   "execution_count": 74,
   "metadata": {},
   "outputs": [
    {
     "name": "stdout",
     "output_type": "stream",
     "text": [
      "Filesystem         Size  Used Avail Use% Mounted on\n",
      "overlay             27G  1.9G   26G   7% /\n",
      "tmpfs               64M     0   64M   0% /dev\n",
      "tmpfs              7.7G     0  7.7G   0% /sys/fs/cgroup\n",
      "shm                 64M     0   64M   0% /dev/shm\n",
      "127.0.0.1:/200015  8.0E  345G  8.0E   1% /root\n",
      "/dev/nvme0n1p1     124G   41G   84G  33% /usr/bin/nvidia-smi\n",
      "devtmpfs           7.7G     0  7.7G   0% /dev/tty\n",
      "tmpfs              7.7G   12K  7.7G   1% /proc/driver/nvidia\n",
      "tmpfs              7.7G     0  7.7G   0% /proc/acpi\n",
      "tmpfs              7.7G     0  7.7G   0% /sys/firmware\n"
     ]
    }
   ],
   "source": [
    "!df -h"
   ]
  },
  {
   "cell_type": "code",
   "execution_count": 2,
   "metadata": {},
   "outputs": [
    {
     "name": "stdout",
     "output_type": "stream",
     "text": [
      "upload: _fastflow_experiment_checkpoints/exp17/999.pt to s3://sagemaker-miyamoto-test-ohio/mazda/fastflow/999.pt\n"
     ]
    }
   ],
   "source": [
    "!aws s3 cp _fastflow_experiment_checkpoints/exp17/999.pt s3://sagemaker-miyamoto-test-ohio/mazda/fastflow/999.pt"
   ]
  },
  {
   "cell_type": "code",
   "execution_count": null,
   "metadata": {},
   "outputs": [],
   "source": []
  }
 ],
 "metadata": {
  "instance_type": "ml.g4dn.xlarge",
  "kernelspec": {
   "display_name": "Python 3 (PyTorch 1.8 Python 3.6 GPU Optimized)",
   "language": "python",
   "name": "python3__SAGEMAKER_INTERNAL__arn:aws:sagemaker:us-east-2:429704687514:image/pytorch-1.8-gpu-py36"
  },
  "language_info": {
   "codemirror_mode": {
    "name": "ipython",
    "version": 3
   },
   "file_extension": ".py",
   "mimetype": "text/x-python",
   "name": "python",
   "nbconvert_exporter": "python",
   "pygments_lexer": "ipython3",
   "version": "3.6.13"
  }
 },
 "nbformat": 4,
 "nbformat_minor": 4
}
